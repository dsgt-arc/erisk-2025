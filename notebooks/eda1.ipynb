{
 "cells": [
  {
   "cell_type": "code",
   "execution_count": null,
   "metadata": {},
   "outputs": [
    {
     "data": {
      "text/plain": [
       "Traceback (most recent call last):\n",
       "  File \"/Users/istalter/.vscode/extensions/ms-python.python-2024.22.0-darwin-x64/python_files/python_server.py\", line 133, in exec_user_input\n",
       "    retval = callable_(user_input, user_globals)\n",
       "             ^^^^^^^^^^^^^^^^^^^^^^^^^^^^^^^^^^^\n",
       "  File \"<string>\", line 2, in <module>\n",
       "ModuleNotFoundError: No module named 'nltk'\n",
       "\n"
      ]
     },
     "metadata": {},
     "output_type": "display_data"
    }
   ],
   "source": [
    "import pandas as pd\n",
    "#import nltk\n",
    "import string\n",
    "import re\n",
    "# from nltk.corpus import stopwords\n",
    "# from nltk.tokenize import RegexpTokenizer\n",
    "# from nltk.stem import WordNetLemmatizer\n",
    "import xml.etree.ElementTree as et\n",
    "import numpy as np"
   ]
  },
  {
   "cell_type": "code",
   "execution_count": null,
   "metadata": {},
   "outputs": [
    {
     "data": {
      "text/plain": [
       "Traceback (most recent call last):\n",
       "  File \"/Users/istalter/.vscode/extensions/ms-python.python-2024.22.0-darwin-x64/python_files/python_server.py\", line 133, in exec_user_input\n",
       "    retval = callable_(user_input, user_globals)\n",
       "             ^^^^^^^^^^^^^^^^^^^^^^^^^^^^^^^^^^^\n",
       "  File \"<string>\", line 16, in <module>\n",
       "  File \"/Library/Frameworks/Python.framework/Versions/3.11/lib/python3.11/site-packages/pandas/core/reshape/concat.py\", line 395, in concat\n",
       "    return op.get_result()\n",
       "           ^^^^^^^^^^^^^^^\n",
       "  File \"/Library/Frameworks/Python.framework/Versions/3.11/lib/python3.11/site-packages/pandas/core/reshape/concat.py\", line 684, in get_result\n",
       "    new_data = concatenate_managers(\n",
       "               ^^^^^^^^^^^^^^^^^^^^^\n",
       "  File \"/Library/Frameworks/Python.framework/Versions/3.11/lib/python3.11/site-packages/pandas/core/internals/concat.py\", line 177, in concatenate_managers\n",
       "    values = np.concatenate(vals, axis=1)  # type: ignore[arg-type]\n",
       "             ^^^^^^^^^^^^^^^^^^^^^^^^^^^^\n",
       "KeyboardInterrupt\n",
       "\n"
      ]
     },
     "metadata": {},
     "output_type": "display_data"
    }
   ],
   "source": [
    "task2neg = \"/Users/istalter/Desktop/json_output\"\n",
    "import json, os\n",
    "df_task2neg = pd.DataFrame()\n",
    "file_count = 0\n",
    "\n",
    "for file_name in os.listdir(task2neg):\n",
    "    if file_name.endswith('.json'):\n",
    "        if file_count >= 10:\n",
    "            break\n",
    "        file_path = os.path.join(task2neg, file_name)\n",
    "        with open(file_path, 'r') as file:\n",
    "            data = json.load(file)\n",
    "        \n",
    "        for post in data.get('posts',[]):\n",
    "            df = pd.DataFrame([post])\n",
    "            \n",
    "            df['ID'] = file_name.replace('.json', '')\n",
    "        \n",
    "            df_task2neg = pd.concat([df_task2neg, df], ignore_index=True)\n",
    "            \n",
    "        file_count += 1\n",
    "            \n",
    "print(df_task2neg)"
   ]
  }
 ],
 "metadata": {
  "language_info": {
   "name": "python"
  }
 },
 "nbformat": 4,
 "nbformat_minor": 2
}
